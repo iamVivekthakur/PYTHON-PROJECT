{
 "cells": [
  {
   "cell_type": "markdown",
   "id": "e2f26bb0",
   "metadata": {},
   "source": [
    "# PYTHON PROJECT DAY-11"
   ]
  },
  {
   "cell_type": "markdown",
   "id": "53154072",
   "metadata": {},
   "source": [
    "Q41). Define a class named American which has a static method called printNationality. Hints: Use @staticmethod decorator to define class static method."
   ]
  },
  {
   "cell_type": "code",
   "execution_count": 1,
   "id": "220a8377",
   "metadata": {},
   "outputs": [
    {
     "name": "stdout",
     "output_type": "stream",
     "text": [
      "You are an  NewYorker\n"
     ]
    }
   ],
   "source": [
    "class America:\n",
    "    def nationality(self, a):\n",
    "        self.a=a\n",
    "        print(\"You are an \",self.a)\n",
    "\n",
    "\n",
    "a=America()\n",
    "a.nationality(\"NewYorker\")"
   ]
  },
  {
   "cell_type": "markdown",
   "id": "7b1f5b7d",
   "metadata": {},
   "source": [
    "Q42). Define a class named American and its subclass NewYorker. Hints: Use class Subclass(ParentClass) to define a subclass."
   ]
  },
  {
   "cell_type": "code",
   "execution_count": 2,
   "id": "0be9103f",
   "metadata": {},
   "outputs": [
    {
     "name": "stdout",
     "output_type": "stream",
     "text": [
      "<__main__.NewYorker object at 0x000002AABA59CE20>\n"
     ]
    }
   ],
   "source": [
    "class American:\n",
    "    pass\n",
    "class NewYorker(American):\n",
    "    pass\n",
    "\n",
    "a= NewYorker()\n",
    "\n",
    "print(a)"
   ]
  },
  {
   "cell_type": "markdown",
   "id": "4180f18d",
   "metadata": {},
   "source": [
    "Q43). Define a class named Circle which can be constructed by a radius. The Circle class has a method which can compute the area."
   ]
  },
  {
   "cell_type": "code",
   "execution_count": 4,
   "id": "7fe27da2",
   "metadata": {},
   "outputs": [
    {
     "name": "stdout",
     "output_type": "stream",
     "text": [
      "The Area of circle is :  314.0\n"
     ]
    }
   ],
   "source": [
    "class Circle():\n",
    "    def __init__(self, r):\n",
    "        self.radius = r\n",
    "\n",
    "    def area(self):\n",
    "        return self.radius**2*3.14\n",
    "\n",
    "Ar= Circle(10)\n",
    "print(\"The Area of circle is : \", Ar.area())\n"
   ]
  },
  {
   "cell_type": "markdown",
   "id": "e8a8aad0",
   "metadata": {},
   "source": [
    "Q44) .Define a class named Rectangle which can be constructed by a length and width. The Rectangle class has a method which can compute the area."
   ]
  },
  {
   "cell_type": "code",
   "execution_count": 6,
   "id": "54368fdb",
   "metadata": {},
   "outputs": [
    {
     "name": "stdout",
     "output_type": "stream",
     "text": [
      "The Area of Rectangle is :  200\n"
     ]
    }
   ],
   "source": [
    "class Rectangle():\n",
    "    def __init__(self,l,b):\n",
    "        self.l=l\n",
    "        self.b=b\n",
    "        \n",
    "    def area(self):\n",
    "        return self.l*self.b\n",
    "        \n",
    "A=Rectangle(10,20)\n",
    "print(\"The Area of Rectangle is : \", A.area())"
   ]
  }
 ],
 "metadata": {
  "kernelspec": {
   "display_name": "Python 3 (ipykernel)",
   "language": "python",
   "name": "python3"
  },
  "language_info": {
   "codemirror_mode": {
    "name": "ipython",
    "version": 3
   },
   "file_extension": ".py",
   "mimetype": "text/x-python",
   "name": "python",
   "nbconvert_exporter": "python",
   "pygments_lexer": "ipython3",
   "version": "3.10.2"
  }
 },
 "nbformat": 4,
 "nbformat_minor": 5
}
