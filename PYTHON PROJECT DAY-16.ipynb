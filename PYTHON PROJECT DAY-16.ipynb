{
 "cells": [
  {
   "cell_type": "markdown",
   "id": "36cda046",
   "metadata": {},
   "source": [
    "# PYTHON PROJECT DAY-16"
   ]
  },
  {
   "cell_type": "markdown",
   "id": "db7d0b0c",
   "metadata": {},
   "source": [
    "Q54). Please generate a random float where the value is between 5 and 95 using Python math module. Hints: Use random.random() to generate a random float in [0,1]."
   ]
  },
  {
   "cell_type": "code",
   "execution_count": 1,
   "id": "7ba41bab",
   "metadata": {},
   "outputs": [],
   "source": [
    "import random"
   ]
  },
  {
   "cell_type": "code",
   "execution_count": 2,
   "id": "9fa48ae6",
   "metadata": {},
   "outputs": [
    {
     "name": "stdout",
     "output_type": "stream",
     "text": [
      "23.9\n"
     ]
    }
   ],
   "source": [
    "print(round(random.random()*95,2))"
   ]
  },
  {
   "cell_type": "code",
   "execution_count": 3,
   "id": "a2e3a4f9",
   "metadata": {},
   "outputs": [
    {
     "name": "stdout",
     "output_type": "stream",
     "text": [
      "93.09\n"
     ]
    }
   ],
   "source": [
    "print(round(random.random()*100-5,2))"
   ]
  },
  {
   "cell_type": "markdown",
   "id": "b23c35b9",
   "metadata": {},
   "source": [
    "Q55). Please write a program to output a random even number between 0 and 10 inclusive using random module and list comprehension. Hints: Use random.choice() to a random element from a list."
   ]
  },
  {
   "cell_type": "code",
   "execution_count": 4,
   "id": "947093c2",
   "metadata": {},
   "outputs": [
    {
     "name": "stdout",
     "output_type": "stream",
     "text": [
      "2\n"
     ]
    }
   ],
   "source": [
    "n=[i for i in range(0,11) if i%2==0]\n",
    "print(random.choice(n))"
   ]
  },
  {
   "cell_type": "markdown",
   "id": "612d3f37",
   "metadata": {},
   "source": [
    "Q56). Please write a program to generate a list with 5 random numbers between 100 and 200 inclusive. Hints: Use random.sample() to generate a list of random values."
   ]
  },
  {
   "cell_type": "code",
   "execution_count": 5,
   "id": "73a2e24c",
   "metadata": {},
   "outputs": [
    {
     "name": "stdout",
     "output_type": "stream",
     "text": [
      "[168, 132, 195, 124, 176]\n"
     ]
    }
   ],
   "source": [
    "print(random.sample(range(100,201),5))"
   ]
  }
 ],
 "metadata": {
  "kernelspec": {
   "display_name": "Python 3 (ipykernel)",
   "language": "python",
   "name": "python3"
  },
  "language_info": {
   "codemirror_mode": {
    "name": "ipython",
    "version": 3
   },
   "file_extension": ".py",
   "mimetype": "text/x-python",
   "name": "python",
   "nbconvert_exporter": "python",
   "pygments_lexer": "ipython3",
   "version": "3.10.2"
  }
 },
 "nbformat": 4,
 "nbformat_minor": 5
}
