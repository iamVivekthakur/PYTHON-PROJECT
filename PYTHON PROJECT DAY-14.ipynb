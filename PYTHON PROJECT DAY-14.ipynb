{
 "cells": [
  {
   "cell_type": "markdown",
   "id": "00f6e6b6",
   "metadata": {},
   "source": [
    "# PYTHON PROJECT DAY-14"
   ]
  },
  {
   "cell_type": "markdown",
   "id": "4418e409",
   "metadata": {},
   "source": [
    "Q52). The Fibonacci sequence is computed based on the following formula: f(n)=0 if n=0 f(n)=1 if n=1 f(n)=f(n-1)+f(n-2) if n>1 Please write a program to compute the value of f(n) with a given n input by console. If the following n is given as input to the program: 7 Then, the output of the program should be: 13"
   ]
  },
  {
   "cell_type": "code",
   "execution_count": 1,
   "id": "1ffeab51",
   "metadata": {},
   "outputs": [
    {
     "name": "stdout",
     "output_type": "stream",
     "text": [
      "Enter any number ? 7\n"
     ]
    },
    {
     "data": {
      "text/plain": [
       "13"
      ]
     },
     "execution_count": 1,
     "metadata": {},
     "output_type": "execute_result"
    }
   ],
   "source": [
    "n=int(input(\"Enter any number ? \"))\n",
    "\n",
    "def f(n):\n",
    "    if n==0:\n",
    "        return 0\n",
    "    elif n==1:\n",
    "        return 1\n",
    "    else:\n",
    "        return f(n-1)+f(n-2)\n",
    "    \n",
    "f(n)"
   ]
  },
  {
   "cell_type": "markdown",
   "id": "a173af35",
   "metadata": {},
   "source": [
    "Q53). The Fibonacci sequence is computed based on the following formula:\n",
    "f(n)=0 if n=0\n",
    "\n",
    "f(n)=1 if n=1\n",
    "\n",
    "f(n)=f(n-1)+f(n-2) if n>1\n",
    "\n",
    "Please write a program using list comprehension to print the Fibonacci sequence in comma separated form with a given n input by console.\n",
    "\n",
    "If the following n is given as input to the program: 7 Then, the output of the program should be: 0, 1, 1, 2, 3, 5, 8, 13"
   ]
  },
  {
   "cell_type": "code",
   "execution_count": 3,
   "id": "7e32a9bb",
   "metadata": {},
   "outputs": [
    {
     "name": "stdout",
     "output_type": "stream",
     "text": [
      "Enter the number : 7\n",
      "0,1,1,2,3,5,8,13\n"
     ]
    }
   ],
   "source": [
    "n=int(input(\"Enter the number : \"))\n",
    "\n",
    "def f(n):\n",
    "    if n==0:\n",
    "        return 0\n",
    "    elif n==1:\n",
    "        return 1\n",
    "    \n",
    "    else:\n",
    "        return f(n-1)+f(n-2)\n",
    "    \n",
    "values = [str(f(x)) for x in range(0, n+1)]\n",
    "print(\",\".join(values))"
   ]
  },
  {
   "cell_type": "code",
   "execution_count": 7,
   "id": "17836e6a",
   "metadata": {},
   "outputs": [
    {
     "name": "stdout",
     "output_type": "stream",
     "text": [
      "Enter the number : 7\n",
      "0, 1, 1, 2, 3, 5, 8, 13, "
     ]
    }
   ],
   "source": [
    "n=int(input(\"Enter the number : \"))\n",
    "a=0\n",
    "b=1\n",
    "for i in range(0,n+1):\n",
    "    c=a\n",
    "    a=b\n",
    "    b=(a+c)\n",
    "    print(c,end=\", \")"
   ]
  },
  {
   "cell_type": "markdown",
   "id": "8f9b4b81",
   "metadata": {},
   "source": [
    "Q54). Please write a program using generator to print the even numbers between 0 and n in comma separated form while n is input by console. Example: If the following n is given as input to the program: 10 Then, the output of the program should be: 0,2,4,6,8,10 Hints: Use yield to produce the next value in generator. In case of input data being supplied to the question, it should be assumed to be a console input."
   ]
  },
  {
   "cell_type": "code",
   "execution_count": 8,
   "id": "69cb8cf2",
   "metadata": {},
   "outputs": [
    {
     "name": "stdout",
     "output_type": "stream",
     "text": [
      "Enter any number ? 10\n",
      "0,2,4,6,8,10\n"
     ]
    }
   ],
   "source": [
    "n=int(input(\"Enter any number ? \"))\n",
    "ls=[]\n",
    "def EvenGenerator(n):\n",
    "    i=0\n",
    "    while i<=n:\n",
    "        if i%2==0:\n",
    "            yield i\n",
    "        i=i+1\n",
    "\n",
    "for i in EvenGenerator(n):\n",
    "    ls.append(str(i))\n",
    "\n",
    "print(\",\".join(ls))"
   ]
  }
 ],
 "metadata": {
  "kernelspec": {
   "display_name": "Python 3 (ipykernel)",
   "language": "python",
   "name": "python3"
  },
  "language_info": {
   "codemirror_mode": {
    "name": "ipython",
    "version": 3
   },
   "file_extension": ".py",
   "mimetype": "text/x-python",
   "name": "python",
   "nbconvert_exporter": "python",
   "pygments_lexer": "ipython3",
   "version": "3.10.2"
  }
 },
 "nbformat": 4,
 "nbformat_minor": 5
}
