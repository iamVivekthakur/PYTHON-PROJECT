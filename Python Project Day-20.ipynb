{
 "cells": [
  {
   "cell_type": "markdown",
   "id": "681cb3a4",
   "metadata": {},
   "source": [
    "# Python Project Day-20"
   ]
  },
  {
   "cell_type": "markdown",
   "id": "3cb0c1dd",
   "metadata": {},
   "source": [
    "Q66). Define a class Person and its two child classes: Male and Female. All classes have a method \"getGender\" which can print \"Male\" for Male class and \"Female\" for Female class. Hints: Use Subclass(Parentclass) to define a child class."
   ]
  },
  {
   "cell_type": "code",
   "execution_count": 1,
   "id": "48f7eeb1",
   "metadata": {},
   "outputs": [
    {
     "name": "stdout",
     "output_type": "stream",
     "text": [
      "Male\n",
      "Female\n"
     ]
    }
   ],
   "source": [
    "class Person():\n",
    "    def Getgender(self):\n",
    "        print(\"Unknown\")\n",
    "        \n",
    "class Male(Person):\n",
    "    def Getgender(self):\n",
    "        print(\"Male\")\n",
    "        \n",
    "class Female(Male):\n",
    "    def Getgender(self):\n",
    "        print(\"Female\")\n",
    "        \n",
    "M=Male()\n",
    "F=Female()\n",
    "\n",
    "M.Getgender()\n",
    "F.Getgender()    "
   ]
  },
  {
   "cell_type": "markdown",
   "id": "441832f7",
   "metadata": {},
   "source": [
    "Q67). Please write a program which count and print the numbers of each character in a string input by console. If the following string is given as input to the program: abcdefgabc Then, the output of the program should be: a,2 c,2 b,2 e,1 d,1 g,1 f,1 Hints: Use dict to store key/value pairs. Use dict.get() method to lookup a key with default value."
   ]
  },
  {
   "cell_type": "code",
   "execution_count": 2,
   "id": "653b3cd2",
   "metadata": {},
   "outputs": [],
   "source": [
    "from collections import Counter"
   ]
  },
  {
   "cell_type": "code",
   "execution_count": 3,
   "id": "fd7cac5b",
   "metadata": {},
   "outputs": [
    {
     "data": {
      "text/plain": [
       "Counter({'a': 2, 'b': 2, 'c': 2, 'd': 1, 'e': 1, 'f': 1, 'g': 1})"
      ]
     },
     "execution_count": 3,
     "metadata": {},
     "output_type": "execute_result"
    }
   ],
   "source": [
    "a=\"abcdefgabc\"\n",
    "Counter(a)"
   ]
  },
  {
   "cell_type": "code",
   "execution_count": 4,
   "id": "aad8908a",
   "metadata": {},
   "outputs": [
    {
     "data": {
      "text/plain": [
       "{'a': 2, 'b': 2, 'c': 2, 'd': 1, 'e': 1, 'f': 1, 'g': 1}"
      ]
     },
     "execution_count": 4,
     "metadata": {},
     "output_type": "execute_result"
    }
   ],
   "source": [
    "d=\"abcdefgabc\"\n",
    "d={}\n",
    "for i in a:\n",
    "    d[i]=a.count(i)\n",
    "    \n",
    "d"
   ]
  },
  {
   "cell_type": "markdown",
   "id": "580b2451",
   "metadata": {},
   "source": [
    "Q68). Please write a program which accepts a string from console and print it in reverse order. If the following string is given as input to the program: rise to vote sir Then, the output of the program should be: ris etov ot esir Hints: Use list[::-1] to iterate a list in a reverse order."
   ]
  },
  {
   "cell_type": "code",
   "execution_count": 5,
   "id": "f0ecfb6f",
   "metadata": {},
   "outputs": [
    {
     "name": "stdout",
     "output_type": "stream",
     "text": [
      "Enter the string rise to vote sir\n",
      "ris etov ot esir\n"
     ]
    }
   ],
   "source": [
    "s=input(\"Enter the string \")\n",
    "s=s[::-1]\n",
    "print(s)"
   ]
  }
 ],
 "metadata": {
  "kernelspec": {
   "display_name": "Python 3 (ipykernel)",
   "language": "python",
   "name": "python3"
  },
  "language_info": {
   "codemirror_mode": {
    "name": "ipython",
    "version": 3
   },
   "file_extension": ".py",
   "mimetype": "text/x-python",
   "name": "python",
   "nbconvert_exporter": "python",
   "pygments_lexer": "ipython3",
   "version": "3.10.2"
  }
 },
 "nbformat": 4,
 "nbformat_minor": 5
}
