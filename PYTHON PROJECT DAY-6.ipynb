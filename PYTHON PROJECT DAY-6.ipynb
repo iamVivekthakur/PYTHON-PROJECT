{
 "cells": [
  {
   "cell_type": "markdown",
   "id": "dfa9c3ae",
   "metadata": {},
   "source": [
    "# PYTHON PROJECT DAY-6"
   ]
  },
  {
   "cell_type": "markdown",
   "id": "05848d79",
   "metadata": {},
   "source": [
    "Q20). Define a class, which have a class parameter and have a same instance parameter. Hints: Define a instance parameter, need add it in init method You can init a object with construct parameter or set the value later"
   ]
  },
  {
   "cell_type": "code",
   "execution_count": 1,
   "id": "e94c9944",
   "metadata": {},
   "outputs": [
    {
     "name": "stdout",
     "output_type": "stream",
     "text": [
      "my name is - Vivek Thakur\n",
      "My age is :  29\n"
     ]
    }
   ],
   "source": [
    "class Person:\n",
    "    def __init__(self, name, age):\n",
    "        self.name = name\n",
    "        self.age= age\n",
    "    def x(self):\n",
    "        print('my name is - '+self.name)\n",
    "        \n",
    "        \n",
    "        \n",
    "p1= Person('Vivek Thakur',29)\n",
    "p1.x()\n",
    "print(\"My age is : \", p1.age)"
   ]
  },
  {
   "cell_type": "markdown",
   "id": "042c9bb4",
   "metadata": {},
   "source": [
    "Q21). Define a function which can compute the sum of two numbers. Hints: Define a function with two numbers as arguments. You can compute the sum in the function and return the value."
   ]
  },
  {
   "cell_type": "code",
   "execution_count": 2,
   "id": "cacc745f",
   "metadata": {},
   "outputs": [],
   "source": [
    "def calc(a,b):\n",
    "    add=a+b\n",
    "    return add"
   ]
  },
  {
   "cell_type": "code",
   "execution_count": 3,
   "id": "e36b1979",
   "metadata": {},
   "outputs": [
    {
     "data": {
      "text/plain": [
       "30"
      ]
     },
     "execution_count": 3,
     "metadata": {},
     "output_type": "execute_result"
    }
   ],
   "source": [
    "calc(20,10)"
   ]
  },
  {
   "cell_type": "markdown",
   "id": "dc3c544e",
   "metadata": {},
   "source": [
    "Q22). Define a function that can convert a integer into a string and print it in console. Hints: Use str() to convert a number to string."
   ]
  },
  {
   "cell_type": "code",
   "execution_count": 4,
   "id": "a8c93309",
   "metadata": {},
   "outputs": [
    {
     "name": "stdout",
     "output_type": "stream",
     "text": [
      "Enter the number ? 10\n"
     ]
    },
    {
     "data": {
      "text/plain": [
       "'10'"
      ]
     },
     "execution_count": 4,
     "metadata": {},
     "output_type": "execute_result"
    }
   ],
   "source": [
    "a=int(input(\"Enter the number ? \"))\n",
    "def string():\n",
    "    b=str(a)\n",
    "    return b\n",
    "\n",
    "string()\n",
    "    "
   ]
  },
  {
   "cell_type": "markdown",
   "id": "1c5353dd",
   "metadata": {},
   "source": [
    "Q23). Define a function that can receive two integral numbers in string form and compute their sum and then print it in console. Hints: Use int() to convert a string to integer."
   ]
  },
  {
   "cell_type": "code",
   "execution_count": 5,
   "id": "edab47d4",
   "metadata": {},
   "outputs": [],
   "source": [
    "def sum():\n",
    "    a='20'\n",
    "    b='20'\n",
    "    c=int(a)\n",
    "    d=int(b)\n",
    "    add=c+d\n",
    "    \n",
    "    return add"
   ]
  },
  {
   "cell_type": "code",
   "execution_count": 6,
   "id": "2fc474a4",
   "metadata": {},
   "outputs": [
    {
     "data": {
      "text/plain": [
       "40"
      ]
     },
     "execution_count": 6,
     "metadata": {},
     "output_type": "execute_result"
    }
   ],
   "source": [
    "sum()"
   ]
  },
  {
   "cell_type": "markdown",
   "id": "03c04926",
   "metadata": {},
   "source": [
    "Q24). Define a function that can accept two strings as input and concatenate them and then print it in console. \n",
    "\n",
    "Hints: Use + to concatenate the strings "
   ]
  },
  {
   "cell_type": "code",
   "execution_count": 8,
   "id": "3e3ed3a7",
   "metadata": {},
   "outputs": [],
   "source": [
    "def calc():\n",
    "    a=str(input('Enter any string for a '))\n",
    "    b=str(input('Enter any string for b '))\n",
    "    print(a + \" \" + b)"
   ]
  },
  {
   "cell_type": "code",
   "execution_count": 9,
   "id": "928e92f8",
   "metadata": {},
   "outputs": [
    {
     "name": "stdout",
     "output_type": "stream",
     "text": [
      "Enter any string for a Vivek Thakur\n",
      "Enter any string for b 1992\n",
      "Vivek Thakur 1992\n"
     ]
    }
   ],
   "source": [
    "calc()"
   ]
  }
 ],
 "metadata": {
  "kernelspec": {
   "display_name": "Python 3 (ipykernel)",
   "language": "python",
   "name": "python3"
  },
  "language_info": {
   "codemirror_mode": {
    "name": "ipython",
    "version": 3
   },
   "file_extension": ".py",
   "mimetype": "text/x-python",
   "name": "python",
   "nbconvert_exporter": "python",
   "pygments_lexer": "ipython3",
   "version": "3.10.2"
  }
 },
 "nbformat": 4,
 "nbformat_minor": 5
}
