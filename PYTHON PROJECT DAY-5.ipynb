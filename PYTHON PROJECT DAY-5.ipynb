{
 "cells": [
  {
   "cell_type": "markdown",
   "id": "c1a33538",
   "metadata": {},
   "source": [
    "# PYTHON PROJECT DAY-5"
   ]
  },
  {
   "cell_type": "markdown",
   "id": "c617a832",
   "metadata": {},
   "source": [
    "Q17.) A website requires the users to input username and password to register. Write a program to check the validity of password input by users. Following are the criteria for checking the password:\n",
    "\n",
    "1. At least 1 letter between [a-z]\n",
    "\n",
    "2. At least 1 number between [0-9]\n",
    "\n",
    "3. At least 1 letter between [A-Z]\n",
    "\n",
    "4. At least 1 character from [$#@]\n",
    "\n",
    "Minimum length of transaction password: 6\n",
    "Maximum length of transaction password: 12 Your program should accept a sequence of comma separated passwords and will check them according to the above criteria. Passwords that match the criteria are to be printed, each separated by a comma. If the following passwords are given as input to the program: ABd1234@1,a F1#,2w3E*,2We3345 Then, the output of the program should be: ABd1234@1 Hints: In case of input data being supplied to the question, it should be assumed to be a console input."
   ]
  },
  {
   "cell_type": "code",
   "execution_count": 1,
   "id": "dc8e92bc",
   "metadata": {},
   "outputs": [
    {
     "name": "stdout",
     "output_type": "stream",
     "text": [
      "enter the password:Vivek1992 vivek1992 Vivek@1992 VIVEK@1992\n",
      "Vivek1992 invaild\n",
      "vivek1992 invaild\n",
      "Vivek@1992 valid\n",
      "VIVEK@1992 invaild\n"
     ]
    }
   ],
   "source": [
    "p=input(\"enter the password:\").split()\n",
    "for i in p:\n",
    "    u=0\n",
    "    l=0\n",
    "    d=0\n",
    "    s=0\n",
    "    for j in i:\n",
    "        if j.isupper():\n",
    "            u+=1\n",
    "        elif j.islower():\n",
    "            l+=1\n",
    "        elif j.isdigit():\n",
    "            d+=1\n",
    "        else:\n",
    "            s+=1\n",
    "    if u>0 and l>0 and d>0 and s>0 and 6<len(i)<=12:\n",
    "        print(i, \"valid\")\n",
    "    else:\n",
    "        print(i, \"invaild\")"
   ]
  },
  {
   "cell_type": "markdown",
   "id": "ff9ec7a6",
   "metadata": {},
   "source": [
    "Q18). Define a class with a generator which can iterate the numbers, which are divisible by 7, between a given range 0 and n. Hints: Consider use yield"
   ]
  },
  {
   "cell_type": "code",
   "execution_count": 2,
   "id": "94e44e05",
   "metadata": {},
   "outputs": [
    {
     "name": "stdout",
     "output_type": "stream",
     "text": [
      "[0, 7, 14, 21, 28, 35, 42, 49, 56, 63, 70, 77, 84, 91, 98]\n"
     ]
    }
   ],
   "source": [
    "def generator(n):\n",
    "    a= range(0,n)\n",
    "    for i in a:\n",
    "        if i%7==0:\n",
    "            yield i\n",
    "\n",
    "print (list(generator(100)))"
   ]
  },
  {
   "cell_type": "markdown",
   "id": "0bf511de",
   "metadata": {},
   "source": [
    "Q19). Write a program to compute the frequency of the words from the input. The output should output after sorting the key alphanumerically. Suppose the input is supplied to the program: New to Python or choosing between Python 2 and Python 3? Read Python 2 or Python 3. Then, the output should be: 2:2\n",
    ":1 3?:1 New:1 Python:5 Read:1 and:1 between:1 choosing:1 or:2 to:1 Hints: In case of input data being supplied to the question, it should be assumed to be a console input."
   ]
  },
  {
   "cell_type": "code",
   "execution_count": 3,
   "id": "e959bb61",
   "metadata": {},
   "outputs": [],
   "source": [
    "from collections import Counter"
   ]
  },
  {
   "cell_type": "code",
   "execution_count": 4,
   "id": "2dce43ec",
   "metadata": {},
   "outputs": [
    {
     "data": {
      "text/plain": [
       "Counter({'2': 2,\n",
       "         '3': 1,\n",
       "         '3?': 1,\n",
       "         'New': 1,\n",
       "         'Python': 5,\n",
       "         'Read': 1,\n",
       "         'and': 1,\n",
       "         'between': 1,\n",
       "         'choosing': 1,\n",
       "         'or': 2,\n",
       "         'to': 1})"
      ]
     },
     "execution_count": 4,
     "metadata": {},
     "output_type": "execute_result"
    }
   ],
   "source": [
    "s=\"New to Python or choosing between Python 2 and Python 3? Read Python 2 or Python 3\"\n",
    "l=s.split()\n",
    "l.sort()\n",
    "l\n",
    "Counter(l)"
   ]
  },
  {
   "cell_type": "code",
   "execution_count": 5,
   "id": "841e4f8e",
   "metadata": {},
   "outputs": [
    {
     "data": {
      "text/plain": [
       "{'2': 2,\n",
       " '3': 2,\n",
       " '3?': 1,\n",
       " 'New': 1,\n",
       " 'Python': 5,\n",
       " 'Read': 1,\n",
       " 'and': 1,\n",
       " 'between': 1,\n",
       " 'choosing': 1,\n",
       " 'or': 2,\n",
       " 'to': 1}"
      ]
     },
     "execution_count": 5,
     "metadata": {},
     "output_type": "execute_result"
    }
   ],
   "source": [
    "# method-2 :\n",
    "s=\"New to Python or choosing between Python 2 and Python 3? Read Python 2 or Python 3\"\n",
    "l=s.split()\n",
    "l.sort()\n",
    "l\n",
    "d={}\n",
    "for i in l:\n",
    "    d[i]=s.count(i)\n",
    "d\n",
    "    "
   ]
  },
  {
   "cell_type": "code",
   "execution_count": 6,
   "id": "520a227a",
   "metadata": {},
   "outputs": [],
   "source": [
    "# method-3:\n",
    "a={}\n",
    "def frequency(input):\n",
    "    for i in input.split():\n",
    "        a[i] = a.get(i, 0) + 1\n",
    "\n",
    "    words = list(a.keys())\n",
    "    words.sort()\n",
    "\n",
    "    for w in words:\n",
    "        print(f'{w}:{a[w]}')"
   ]
  },
  {
   "cell_type": "code",
   "execution_count": 7,
   "id": "bb73f8c2",
   "metadata": {},
   "outputs": [
    {
     "name": "stdout",
     "output_type": "stream",
     "text": [
      "2:2\n",
      "3.:1\n",
      "3?:1\n",
      "New:1\n",
      "Python:5\n",
      "Read:1\n",
      "and:1\n",
      "between:1\n",
      "choosing:1\n",
      "or:2\n",
      "to:1\n"
     ]
    }
   ],
   "source": [
    "frequency('New to Python or choosing between Python 2 and Python 3? Read Python 2 or Python 3.')"
   ]
  }
 ],
 "metadata": {
  "kernelspec": {
   "display_name": "Python 3 (ipykernel)",
   "language": "python",
   "name": "python3"
  },
  "language_info": {
   "codemirror_mode": {
    "name": "ipython",
    "version": 3
   },
   "file_extension": ".py",
   "mimetype": "text/x-python",
   "name": "python",
   "nbconvert_exporter": "python",
   "pygments_lexer": "ipython3",
   "version": "3.10.2"
  }
 },
 "nbformat": 4,
 "nbformat_minor": 5
}
