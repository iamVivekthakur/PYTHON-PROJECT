{
 "cells": [
  {
   "cell_type": "markdown",
   "id": "56cfe4ab",
   "metadata": {},
   "source": [
    "# PYTHON PROJECT DAY-4"
   ]
  },
  {
   "cell_type": "markdown",
   "id": "b3609db0",
   "metadata": {},
   "source": [
    "Q13). Write a program that accepts a sentence and calculate the number of upper case letters and lower case letters. Suppose the input is supplied to the program: Hello world! Then, the output should be: UPPER CASE 1 LOWER CASE 9 Hints: In case of input data being supplied to the question, it should be assumed to be a console input."
   ]
  },
  {
   "cell_type": "code",
   "execution_count": 1,
   "id": "a3687b2c",
   "metadata": {},
   "outputs": [
    {
     "name": "stdout",
     "output_type": "stream",
     "text": [
      "Enter the string : Hello world!\n",
      "The number of upper case is :  1\n",
      "The number of lower case is :  9\n"
     ]
    }
   ],
   "source": [
    "s=input(\"Enter the string : \")\n",
    "u=l=0\n",
    "\n",
    "for i in s:\n",
    "    if i.isupper():\n",
    "        u+=1\n",
    "        \n",
    "    elif i.islower():\n",
    "        l+=1\n",
    "        \n",
    "    else:\n",
    "        pass\n",
    "\n",
    "print(\"The number of upper case is : \", u)\n",
    "print(\"The number of lower case is : \",l)"
   ]
  },
  {
   "cell_type": "markdown",
   "id": "abf0b240",
   "metadata": {},
   "source": [
    "Q14). Write a program that computes the value of a+aa+aaa+aaaa with a given digit as the value of a. Suppose the input is supplied to the program: 9 Then, the output should be: 11106 Hints: In case of input data being supplied to the question, it should be assumed to be a console input."
   ]
  },
  {
   "cell_type": "code",
   "execution_count": 2,
   "id": "f65f9fd7",
   "metadata": {},
   "outputs": [
    {
     "name": "stdout",
     "output_type": "stream",
     "text": [
      "Enter the value : 9\n",
      "11106\n"
     ]
    }
   ],
   "source": [
    "v=input(\"Enter the value : \")\n",
    "c=0\n",
    "\n",
    "for i in range(1,5):\n",
    "    a=v*i\n",
    "    b=int(a)\n",
    "    c=c+b\n",
    "    \n",
    "print(c)\n",
    "    "
   ]
  },
  {
   "cell_type": "markdown",
   "id": "91237f5b",
   "metadata": {},
   "source": [
    "Q15). Use a list comprehension to square each odd number in a list. The list is input by a sequence of comma-separated numbers. Suppose the input is supplied to the program: 1,2,3,4,5,6,7,8,9 Then, the output should be: 1, 3, 5, 7, 9 Hints: In case of input data being supplied to the question, it should be assumed to be a console input"
   ]
  },
  {
   "cell_type": "code",
   "execution_count": 3,
   "id": "b00c9818",
   "metadata": {},
   "outputs": [
    {
     "name": "stdout",
     "output_type": "stream",
     "text": [
      "Enter the number : 1,2,3,4,5,6,7,8,9\n",
      "['1', '3', '5', '7', '9']\n"
     ]
    }
   ],
   "source": [
    "n=input(\"Enter the number : \")\n",
    "b=[i for i in n.split(\",\") if int(i)%2!=0]\n",
    "print(b)"
   ]
  },
  {
   "cell_type": "markdown",
   "id": "ac0fa0cf",
   "metadata": {},
   "source": [
    "Q16). Write a program that computes the net amount of a bank account based a transaction log from console input. The transaction log format is shown as following: D 100 W 200\n",
    "--D means deposit while W means withdrawal. Suppose the input is supplied to the program: D 300\n",
    "\n",
    "D 300 W 200 D 100 Then, the output should be: 500 Hints: In case of input data being supplied to the question, it should be assumed to be a console input."
   ]
  },
  {
   "cell_type": "code",
   "execution_count": 4,
   "id": "7a0ceef0",
   "metadata": {},
   "outputs": [
    {
     "name": "stdout",
     "output_type": "stream",
     "text": [
      "Enter the amount you want to deposit : 700\n",
      "The deposit amount is : 700\n",
      "Enter the amount you want to withdraw : 200\n",
      "You have withdrawn :  200\n",
      "Your balance is :  500\n"
     ]
    }
   ],
   "source": [
    "d=input(\"Enter the amount you want to deposit : \").split(\" , \")\n",
    "l=[] \n",
    "s=0\n",
    "for i in d:\n",
    "    l.append(i)    \n",
    "l\n",
    "for v in l:\n",
    "    v=int(v)\n",
    "    s=s+v\n",
    "print(\"The deposit amount is :\", s)\n",
    "\n",
    "w=input(\"Enter the amount you want to withdraw : \").split(\" , \")\n",
    "ls=[]\n",
    "c=0\n",
    "for a in w:\n",
    "    ls.append(a)   \n",
    "ls\n",
    "for b in ls:\n",
    "    b=int(b)\n",
    "    c=c+b   \n",
    "print(\"You have withdrawn : \",c)\n",
    "total_amount=s-c\n",
    "print(\"Your balance is : \",total_amount)\n",
    "    "
   ]
  }
 ],
 "metadata": {
  "kernelspec": {
   "display_name": "Python 3 (ipykernel)",
   "language": "python",
   "name": "python3"
  },
  "language_info": {
   "codemirror_mode": {
    "name": "ipython",
    "version": 3
   },
   "file_extension": ".py",
   "mimetype": "text/x-python",
   "name": "python",
   "nbconvert_exporter": "python",
   "pygments_lexer": "ipython3",
   "version": "3.10.2"
  }
 },
 "nbformat": 4,
 "nbformat_minor": 5
}
