{
 "cells": [
  {
   "cell_type": "markdown",
   "id": "29728f9a",
   "metadata": {},
   "source": [
    "# PYTHON PROJECT DAY-7"
   ]
  },
  {
   "cell_type": "markdown",
   "id": "f68e012c",
   "metadata": {},
   "source": [
    "Q25). Define a function that can accept two strings as input and print the string with maximum length in console. If two strings have the same length, then the function should print al l strings line by line. Hints: Use len() function to get the length of a string"
   ]
  },
  {
   "cell_type": "code",
   "execution_count": 1,
   "id": "c1c76998",
   "metadata": {},
   "outputs": [],
   "source": [
    "def compare(s1, s2):\n",
    "    if len(s1)>len(s2):\n",
    "        print('String 1 is longer: ', s1)\n",
    "    elif len(s1) < len(s2):\n",
    "        print('String 2 is longer: ', s2)\n",
    "    else:\n",
    "        print('Strings length are equal!')"
   ]
  },
  {
   "cell_type": "code",
   "execution_count": 4,
   "id": "c219c05a",
   "metadata": {},
   "outputs": [
    {
     "name": "stdout",
     "output_type": "stream",
     "text": [
      "String 2 is longer:  Python\n"
     ]
    }
   ],
   "source": [
    "compare(\"Vivek\", \"Python\")"
   ]
  },
  {
   "cell_type": "markdown",
   "id": "c218bf3a",
   "metadata": {},
   "source": [
    "Q26). Define a function that can accept an integer number as input and print the \"It is an even number\" if the number is even, otherwise print \"It is an odd number\". Hints: Use % operator to check if a number is even or odd."
   ]
  },
  {
   "cell_type": "code",
   "execution_count": 5,
   "id": "df1b20ba",
   "metadata": {},
   "outputs": [],
   "source": [
    "def check():\n",
    "    a=int(input(\"Enter any number : \"))\n",
    "    if a%2==0:\n",
    "        print(\"The number is even.\")\n",
    "        \n",
    "    else:\n",
    "        print(\"The number is odd.\")"
   ]
  },
  {
   "cell_type": "code",
   "execution_count": 6,
   "id": "ccdf3a20",
   "metadata": {},
   "outputs": [
    {
     "name": "stdout",
     "output_type": "stream",
     "text": [
      "Enter any number : 10\n",
      "The number is even.\n"
     ]
    }
   ],
   "source": [
    "check()"
   ]
  },
  {
   "cell_type": "markdown",
   "id": "4dbf74b7",
   "metadata": {},
   "source": [
    "Q27). Define a function which can print a dictionary where the keys are numbers between 1 and 3 (both included) and the values are square of keys. Hints: Use dict[key]=value pattern to put entry into a dictionary."
   ]
  },
  {
   "cell_type": "code",
   "execution_count": 9,
   "id": "35a90845",
   "metadata": {},
   "outputs": [],
   "source": [
    "def Sqr():\n",
    "    d={}\n",
    "    for i in range(1,4):\n",
    "        d[i]=i**2\n",
    "    return d\n",
    "        "
   ]
  },
  {
   "cell_type": "code",
   "execution_count": 10,
   "id": "64e46b3b",
   "metadata": {},
   "outputs": [
    {
     "data": {
      "text/plain": [
       "{1: 1, 2: 4, 3: 9}"
      ]
     },
     "execution_count": 10,
     "metadata": {},
     "output_type": "execute_result"
    }
   ],
   "source": [
    "Sqr()"
   ]
  },
  {
   "cell_type": "markdown",
   "id": "f8354d2f",
   "metadata": {},
   "source": [
    "Q28). Define a function which can print a dictionary where the keys are numbers between 1 and 20 (both included) and the values are square of keys. Hints: Use dict[key]=value pattern to put entry into a dictionary."
   ]
  },
  {
   "cell_type": "code",
   "execution_count": 12,
   "id": "d4dc1e17",
   "metadata": {},
   "outputs": [],
   "source": [
    "def Sqr():\n",
    "    d={}\n",
    "    for i in range(1,21):\n",
    "        d[i]=i**2\n",
    "    return d\n",
    "        "
   ]
  },
  {
   "cell_type": "code",
   "execution_count": 13,
   "id": "333f124b",
   "metadata": {},
   "outputs": [
    {
     "data": {
      "text/plain": [
       "{1: 1,\n",
       " 2: 4,\n",
       " 3: 9,\n",
       " 4: 16,\n",
       " 5: 25,\n",
       " 6: 36,\n",
       " 7: 49,\n",
       " 8: 64,\n",
       " 9: 81,\n",
       " 10: 100,\n",
       " 11: 121,\n",
       " 12: 144,\n",
       " 13: 169,\n",
       " 14: 196,\n",
       " 15: 225,\n",
       " 16: 256,\n",
       " 17: 289,\n",
       " 18: 324,\n",
       " 19: 361,\n",
       " 20: 400}"
      ]
     },
     "execution_count": 13,
     "metadata": {},
     "output_type": "execute_result"
    }
   ],
   "source": [
    "Sqr()"
   ]
  }
 ],
 "metadata": {
  "kernelspec": {
   "display_name": "Python 3 (ipykernel)",
   "language": "python",
   "name": "python3"
  },
  "language_info": {
   "codemirror_mode": {
    "name": "ipython",
    "version": 3
   },
   "file_extension": ".py",
   "mimetype": "text/x-python",
   "name": "python",
   "nbconvert_exporter": "python",
   "pygments_lexer": "ipython3",
   "version": "3.10.2"
  }
 },
 "nbformat": 4,
 "nbformat_minor": 5
}
