{
 "cells": [
  {
   "cell_type": "markdown",
   "id": "7b5ea16d",
   "metadata": {},
   "source": [
    "# PYTHON PROJECT DAY-13"
   ]
  },
  {
   "cell_type": "markdown",
   "id": "830e6e46",
   "metadata": {},
   "source": [
    "Q48). Assuming that we have some email addresses in the \"username@companyname.com\" format, please write program to print the company name of a given email address. Both user names and company names are composed of letters only. If the following email address is given as input to the program: Chandra@analytixlabs.com Then, the output of the program should be: analytixlabs"
   ]
  },
  {
   "cell_type": "code",
   "execution_count": 6,
   "id": "3bbac34e",
   "metadata": {},
   "outputs": [
    {
     "data": {
      "text/plain": [
       "'analytixlabs'"
      ]
     },
     "execution_count": 6,
     "metadata": {},
     "output_type": "execute_result"
    }
   ],
   "source": [
    "def name(v):\n",
    "    try:\n",
    "        return v.replace(\"@\",\".\").split(\".\")[1]\n",
    "    except:\n",
    "        print(\"email_id does not exits\")\n",
    "        \n",
    "name(\"Chandra@analytixlabs.com\")"
   ]
  },
  {
   "cell_type": "markdown",
   "id": "7d93591b",
   "metadata": {},
   "source": [
    "Q49). Write a program which accepts a sequence of words separated by whitespace as input to print the words composed of digits only. If the following words are given as input to the program: 2 cats and 3 dogs. Then, the output of the program should be: ['2', '3']"
   ]
  },
  {
   "cell_type": "code",
   "execution_count": 7,
   "id": "b69fd92c",
   "metadata": {},
   "outputs": [
    {
     "name": "stdout",
     "output_type": "stream",
     "text": [
      "2 cats and 3 dogs\n"
     ]
    },
    {
     "data": {
      "text/plain": [
       "[2, 3]"
      ]
     },
     "execution_count": 7,
     "metadata": {},
     "output_type": "execute_result"
    }
   ],
   "source": [
    "[int(s) for s in input().split() if s.isdigit()]"
   ]
  },
  {
   "cell_type": "markdown",
   "id": "0ba043f5",
   "metadata": {},
   "source": [
    "Q50). Print a unicode string \"hello world\". Hints: Use u'strings' format to define unicode string."
   ]
  },
  {
   "cell_type": "code",
   "execution_count": 8,
   "id": "df8bd8b8",
   "metadata": {},
   "outputs": [
    {
     "name": "stdout",
     "output_type": "stream",
     "text": [
      "hello Delhi\n"
     ]
    }
   ],
   "source": [
    "s=u\"hello Delhi\"\n",
    "print(s)"
   ]
  },
  {
   "cell_type": "markdown",
   "id": "b81f5d86",
   "metadata": {},
   "source": [
    "Q51). Write a program to compute 1/2+2/3+3/4+...+n/n+1 with a given n input by console (n>0). If the following n is given as input to the program: 5 Then, the output of the program should be: 3.5"
   ]
  },
  {
   "cell_type": "code",
   "execution_count": 9,
   "id": "9f7a0886",
   "metadata": {},
   "outputs": [
    {
     "name": "stdout",
     "output_type": "stream",
     "text": [
      "Enter any number ? 5\n",
      "3.55\n"
     ]
    }
   ],
   "source": [
    "a=int(input(\"Enter any number ? \"))\n",
    "sum = 0\n",
    "for i in range(1, a+1):\n",
    "    sum=sum+ i/(i+1)\n",
    "print(round(sum, 2))"
   ]
  }
 ],
 "metadata": {
  "kernelspec": {
   "display_name": "Python 3 (ipykernel)",
   "language": "python",
   "name": "python3"
  },
  "language_info": {
   "codemirror_mode": {
    "name": "ipython",
    "version": 3
   },
   "file_extension": ".py",
   "mimetype": "text/x-python",
   "name": "python",
   "nbconvert_exporter": "python",
   "pygments_lexer": "ipython3",
   "version": "3.10.2"
  }
 },
 "nbformat": 4,
 "nbformat_minor": 5
}
