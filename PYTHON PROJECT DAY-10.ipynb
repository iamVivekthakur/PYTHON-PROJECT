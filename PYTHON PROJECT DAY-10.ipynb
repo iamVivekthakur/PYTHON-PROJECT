{
 "cells": [
  {
   "cell_type": "markdown",
   "id": "ce7a5196",
   "metadata": {},
   "source": [
    "# PYTHON PROJECT DAY-10"
   ]
  },
  {
   "cell_type": "markdown",
   "id": "e4a19216",
   "metadata": {},
   "source": [
    "Q37). Write a program to generate and print another tuple whose values are even numbers in the given tuple (1,2,3,4,5,6,7,8,9,10). Hints: Use \"for\" to iterate the tuple. Use tuple() to generate a tuple from a list."
   ]
  },
  {
   "cell_type": "code",
   "execution_count": 2,
   "id": "b0b1d755",
   "metadata": {},
   "outputs": [
    {
     "name": "stdout",
     "output_type": "stream",
     "text": [
      "2 4 6 8 10 "
     ]
    }
   ],
   "source": [
    "x=(1,2,3,4,5,6,7,8,9,10)\n",
    "\n",
    "for i in x:\n",
    "    if i%2==0:\n",
    "        print(i, end=\" \")\n",
    "        \n",
    "    else:\n",
    "        pass"
   ]
  },
  {
   "cell_type": "markdown",
   "id": "f3078ec0",
   "metadata": {},
   "source": [
    "Q38). Write a program which accepts a string as input to print \"Yes\" if the string is \"yes\" or \"YES\" or \"Yes\", otherwise print \"No\". Hints: Use if statement to judge condition."
   ]
  },
  {
   "cell_type": "code",
   "execution_count": 5,
   "id": "41c88e12",
   "metadata": {},
   "outputs": [
    {
     "name": "stdout",
     "output_type": "stream",
     "text": [
      "Enter the string : Vivek\n",
      "No\n"
     ]
    }
   ],
   "source": [
    "s=input(\"Enter the string : \")\n",
    "\n",
    "if s==\"YES\" or s==\"Yes\" or s==\"yes\":\n",
    "    print(\"Yes\")\n",
    "    \n",
    "else:\n",
    "    print(\"No\")"
   ]
  },
  {
   "cell_type": "markdown",
   "id": "a536e944",
   "metadata": {},
   "source": [
    "Q39). Write a program which can filter even numbers in a list by using filter function. The list is: [1,2,3,4,5,6,7,8,9,10]. Hints: use filter() to filter some elements in a list. Use lambda to define anonymous functions."
   ]
  },
  {
   "cell_type": "code",
   "execution_count": 6,
   "id": "ca143dfd",
   "metadata": {},
   "outputs": [
    {
     "name": "stdout",
     "output_type": "stream",
     "text": [
      "[2, 4, 6, 8, 10]\n"
     ]
    }
   ],
   "source": [
    "ls=[1,2,3,4,5,6,7,8,9,10]  \n",
    "a= lambda x: x % 2 == 0\n",
    "ls1= list(filter(a, ls))\n",
    "  \n",
    "print(ls1)"
   ]
  },
  {
   "cell_type": "markdown",
   "id": "1ebef2cd",
   "metadata": {},
   "source": [
    "Q40). Write a program which can map() to make a list whose elements are square of elements in [1,2,3,4,5,6,7,8,9,10]. Hints: Use map() to generate a list. Use lambda to define anonymous functions."
   ]
  },
  {
   "cell_type": "code",
   "execution_count": 7,
   "id": "b7118658",
   "metadata": {},
   "outputs": [
    {
     "name": "stdout",
     "output_type": "stream",
     "text": [
      "[1, 4, 9, 16, 25, 36, 49, 64, 81, 100]\n"
     ]
    }
   ],
   "source": [
    "ls=[1,2,3,4,5,6,7,8,9,10]  \n",
    "a= lambda x: x**2\n",
    "ls1= list(map(a, ls))\n",
    "  \n",
    "print(ls1)"
   ]
  }
 ],
 "metadata": {
  "kernelspec": {
   "display_name": "Python 3 (ipykernel)",
   "language": "python",
   "name": "python3"
  },
  "language_info": {
   "codemirror_mode": {
    "name": "ipython",
    "version": 3
   },
   "file_extension": ".py",
   "mimetype": "text/x-python",
   "name": "python",
   "nbconvert_exporter": "python",
   "pygments_lexer": "ipython3",
   "version": "3.10.2"
  }
 },
 "nbformat": 4,
 "nbformat_minor": 5
}
