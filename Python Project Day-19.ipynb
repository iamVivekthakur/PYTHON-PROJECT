{
 "cells": [
  {
   "cell_type": "markdown",
   "id": "329a2222",
   "metadata": {},
   "source": [
    "# Python Project Day-19"
   ]
  },
  {
   "cell_type": "markdown",
   "id": "7e7884b4",
   "metadata": {},
   "source": [
    "Q63). By using list comprehension, please write a program to print the list after removing the value 24 in [12,24,35,24,88,120,155]. Hints: Use list's remove method to delete a value."
   ]
  },
  {
   "cell_type": "code",
   "execution_count": 1,
   "id": "b6626278",
   "metadata": {},
   "outputs": [],
   "source": [
    "ls =[12 ,24 ,35 ,24 ,88 ,120 ,155]\n",
    "a=24\n",
    "\n",
    "for i,v in enumerate(ls):\n",
    "    \n",
    "    if v==a:\n",
    "        del ls[i]"
   ]
  },
  {
   "cell_type": "code",
   "execution_count": 2,
   "id": "375b6065",
   "metadata": {},
   "outputs": [
    {
     "data": {
      "text/plain": [
       "[12, 35, 88, 120, 155]"
      ]
     },
     "execution_count": 2,
     "metadata": {},
     "output_type": "execute_result"
    }
   ],
   "source": [
    "ls"
   ]
  },
  {
   "cell_type": "code",
   "execution_count": 3,
   "id": "04688a13",
   "metadata": {},
   "outputs": [
    {
     "name": "stdout",
     "output_type": "stream",
     "text": [
      "[12, 35, 88, 120, 155]\n"
     ]
    }
   ],
   "source": [
    "ls=[12,24,35,24,88,120,155]\n",
    "ls=[x for x in ls if x!=24]\n",
    "print(ls)"
   ]
  },
  {
   "cell_type": "markdown",
   "id": "4925f1d6",
   "metadata": {},
   "source": [
    "Q64). With two given lists [1,3,6,78,35,55] and [12,24,35,24,88,120,155], write a program to make a list whose elements are intersection of the above given lists. Hints: Use set() and \"&=\" to do set intersection operation."
   ]
  },
  {
   "cell_type": "code",
   "execution_count": 4,
   "id": "3fafd5ae",
   "metadata": {},
   "outputs": [
    {
     "name": "stdout",
     "output_type": "stream",
     "text": [
      "[35]\n"
     ]
    }
   ],
   "source": [
    "set1=set([1,3,6,78,35,55])\n",
    "set2=set([12,24,35,24,88,120,155])\n",
    "set1 &= set2\n",
    "ls=list(set1)\n",
    "print(ls)"
   ]
  },
  {
   "cell_type": "markdown",
   "id": "0ddc2029",
   "metadata": {},
   "source": [
    "Q65). With a given list [12, 24, 35, 24, 88, 120, 155, 88, 120, 155], write a program to print this list after removing all duplicate values with original order reserved. Hints: Use set() to store a number of values without duplicate."
   ]
  },
  {
   "cell_type": "code",
   "execution_count": 5,
   "id": "82ce8f4e",
   "metadata": {},
   "outputs": [
    {
     "name": "stdout",
     "output_type": "stream",
     "text": [
      "[155, 120, 88, 35, 24, 12]\n"
     ]
    }
   ],
   "source": [
    "ls=[12,24,35,24,88,120,155,88,120,155]\n",
    "ls1=ls.reverse()\n",
    "for i in ls:\n",
    "    if ls.count(i)>1:\n",
    "        ls.remove(i)\n",
    "print(ls)"
   ]
  }
 ],
 "metadata": {
  "kernelspec": {
   "display_name": "Python 3 (ipykernel)",
   "language": "python",
   "name": "python3"
  },
  "language_info": {
   "codemirror_mode": {
    "name": "ipython",
    "version": 3
   },
   "file_extension": ".py",
   "mimetype": "text/x-python",
   "name": "python",
   "nbconvert_exporter": "python",
   "pygments_lexer": "ipython3",
   "version": "3.10.2"
  }
 },
 "nbformat": 4,
 "nbformat_minor": 5
}
