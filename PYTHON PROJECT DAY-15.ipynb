{
 "cells": [
  {
   "cell_type": "markdown",
   "id": "89ed0e71",
   "metadata": {},
   "source": [
    "# PYTHON PROJECT DAY-15"
   ]
  },
  {
   "cell_type": "markdown",
   "id": "7ccf45e6",
   "metadata": {},
   "source": [
    "Q55). Please write a program using generator to print the numbers which can be divisible by 5 and 7 between 0 and n in comma separated form while n is input by console. If the following n is given as input to the program: 100 Then, the output of the program should be: 0, 35, 70 Hints: Use yield to produce the next value in generator. In case of input data being supplied to the question, it should be assumed to be a console input."
   ]
  },
  {
   "cell_type": "code",
   "execution_count": 2,
   "id": "089e9941",
   "metadata": {},
   "outputs": [
    {
     "name": "stdout",
     "output_type": "stream",
     "text": [
      "Enter any number ? 100\n",
      "0,35,70\n"
     ]
    }
   ],
   "source": [
    "n=int(input(\"Enter any number ? \"))\n",
    "ls=[]\n",
    "def EvenGenerator(n):\n",
    "    i=0\n",
    "    while i<=n:\n",
    "        if i%5==0 and i%7==0:\n",
    "            yield i\n",
    "        i=i+1\n",
    "\n",
    "for i in EvenGenerator(n):\n",
    "    ls.append(str(i))\n",
    "\n",
    "print(\",\".join(ls))"
   ]
  },
  {
   "cell_type": "markdown",
   "id": "dd015fa8",
   "metadata": {},
   "source": [
    "Q56). Please write a program which accepts basic mathematic expression from console and print the evaluation result. If the following string is given as input to the program: 35+3 Then, the output of the program should be: 38 Hints: Use eval() to evaluate an expression."
   ]
  },
  {
   "cell_type": "code",
   "execution_count": 3,
   "id": "3b43297b",
   "metadata": {},
   "outputs": [
    {
     "name": "stdout",
     "output_type": "stream",
     "text": [
      "Enter the number ? 35+3\n",
      "38\n"
     ]
    }
   ],
   "source": [
    "n=input(\"Enter the number ? \")\n",
    "print(eval(n))"
   ]
  },
  {
   "cell_type": "code",
   "execution_count": 4,
   "id": "c8c373ad",
   "metadata": {},
   "outputs": [
    {
     "name": "stdout",
     "output_type": "stream",
     "text": [
      "Enter the value of n ? 35\n",
      "Enter the value of c ? 3\n",
      "38\n"
     ]
    }
   ],
   "source": [
    "n=int(input(\"Enter the value of n ? \"))\n",
    "c=int(input(\"Enter the value of c ? \"))\n",
    "b=c+n\n",
    "print(b)"
   ]
  },
  {
   "cell_type": "markdown",
   "id": "3565b833",
   "metadata": {},
   "source": [
    "Q53). Please generate a random float where the value is between 10 and 100 using Python math module. Hints: Use random.random() to generate a random float in [0,1]."
   ]
  },
  {
   "cell_type": "code",
   "execution_count": 5,
   "id": "48f22432",
   "metadata": {},
   "outputs": [],
   "source": [
    "import random"
   ]
  },
  {
   "cell_type": "code",
   "execution_count": 7,
   "id": "9eb917ef",
   "metadata": {},
   "outputs": [
    {
     "name": "stdout",
     "output_type": "stream",
     "text": [
      "23.65\n"
     ]
    }
   ],
   "source": [
    "print(round(random.random()*100,2))"
   ]
  }
 ],
 "metadata": {
  "kernelspec": {
   "display_name": "Python 3 (ipykernel)",
   "language": "python",
   "name": "python3"
  },
  "language_info": {
   "codemirror_mode": {
    "name": "ipython",
    "version": 3
   },
   "file_extension": ".py",
   "mimetype": "text/x-python",
   "name": "python",
   "nbconvert_exporter": "python",
   "pygments_lexer": "ipython3",
   "version": "3.10.2"
  }
 },
 "nbformat": 4,
 "nbformat_minor": 5
}
