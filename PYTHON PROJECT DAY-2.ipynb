{
 "cells": [
  {
   "cell_type": "markdown",
   "id": "eeadfbd2",
   "metadata": {},
   "source": [
    "# PYTHON PROJECT DAY-2"
   ]
  },
  {
   "cell_type": "markdown",
   "id": "5238eadf",
   "metadata": {},
   "source": [
    "Q5). Define a class which has at least two methods: getString: to get a string from console input printString: to print the string in upper case. Also please include simple test function to test the class methods. Hints: Use init method to construct some parameters"
   ]
  },
  {
   "cell_type": "code",
   "execution_count": 4,
   "id": "23fdb9dc",
   "metadata": {},
   "outputs": [
    {
     "name": "stdout",
     "output_type": "stream",
     "text": [
      " honesty is the best policy\n",
      "HONESTY IS THE BEST POLICY\n"
     ]
    }
   ],
   "source": [
    "class string:\n",
    "    def __init__(self):\n",
    "        self.a= \" \"\n",
    "        \n",
    "    def get_string(self):\n",
    "        self.a=input(\" \")\n",
    "        \n",
    "    def print_string(self):\n",
    "        print(self.a.upper())\n",
    "        \n",
    "str=string()\n",
    "str.get_string()\n",
    "str.print_string()"
   ]
  },
  {
   "cell_type": "markdown",
   "id": "590ddcab",
   "metadata": {},
   "source": [
    "Q6). Write a program that calculates and prints the value according to the given formula: Q = Square root of [(2 * C * D)/H] Following are the fixed values of C and H: C is 50. H is 30. D is the variable whose values should be input to your program in a comma-separated sequence. Let us assume the following comma separated input sequence is given to the program: 100,150,180 The output of the program should be: 18, 22, 24 Hints: If the output received is in decimal form, it should be rounded off to its nearest value (for example, if the output received is 26.0, it should be printed as 26) In case of input data being supplied to the question, it should be assumed to be a console input"
   ]
  },
  {
   "cell_type": "code",
   "execution_count": 7,
   "id": "e7b579a7",
   "metadata": {},
   "outputs": [
    {
     "name": "stdout",
     "output_type": "stream",
     "text": [
      "Enter the value d100\n",
      "18.257418583505537\n"
     ]
    }
   ],
   "source": [
    "d=float(input('Enter the value d'))\n",
    "c=50\n",
    "h=30\n",
    "formula=float((2*c*d)/h)**(.5)\n",
    "print(formula)"
   ]
  },
  {
   "cell_type": "markdown",
   "id": "fd498db0",
   "metadata": {},
   "source": [
    "Q7) Write a program that accepts a comma separated sequence of words as input and prints the words in a comma-separated sequence after sorting them alphabetically. \n",
    "Suppose the input is supplied to the program: without, hello, bag, world \n",
    "Then, the output should be: bag, hello, without, world \n",
    "Hints: In case of input data being supplied to the question, it should be assumed to be a console input. "
   ]
  },
  {
   "cell_type": "code",
   "execution_count": 8,
   "id": "b67be3a3",
   "metadata": {},
   "outputs": [
    {
     "name": "stdout",
     "output_type": "stream",
     "text": [
      "Enter the sting : without, hello, bag, world\n",
      "[' bag', ' hello', ' world', 'without']\n"
     ]
    }
   ],
   "source": [
    "a=input(\"Enter the sting : \").split(\",\")\n",
    "b=sorted(a)\n",
    "print(b)"
   ]
  },
  {
   "cell_type": "markdown",
   "id": "1a070129",
   "metadata": {},
   "source": [
    "Q8). Write a program that accepts sequence of lines as input and prints the lines after making all characters in the sentence capitalized.\n",
    "\n",
    "Suppose the input is supplied to the program: Hello world \n",
    "Practice makes perfect \n",
    "Then, the output should be: HELLO WORLD \n",
    "PRACTICE MAKES PERFECT \n"
   ]
  },
  {
   "cell_type": "code",
   "execution_count": 10,
   "id": "a7de36b0",
   "metadata": {},
   "outputs": [
    {
     "name": "stdout",
     "output_type": "stream",
     "text": [
      "Enter the string : Hello world Practice makes perfect\n",
      "HELLO WORLD PRACTICE MAKES PERFECT\n"
     ]
    }
   ],
   "source": [
    "a=input(\"Enter the string : \")\n",
    "b=a.upper()\n",
    "print(b)"
   ]
  }
 ],
 "metadata": {
  "kernelspec": {
   "display_name": "Python 3 (ipykernel)",
   "language": "python",
   "name": "python3"
  },
  "language_info": {
   "codemirror_mode": {
    "name": "ipython",
    "version": 3
   },
   "file_extension": ".py",
   "mimetype": "text/x-python",
   "name": "python",
   "nbconvert_exporter": "python",
   "pygments_lexer": "ipython3",
   "version": "3.10.2"
  }
 },
 "nbformat": 4,
 "nbformat_minor": 5
}
