{
 "cells": [
  {
   "cell_type": "markdown",
   "id": "fe8f3256",
   "metadata": {},
   "source": [
    "# PYTHON PROJECT DAY-3"
   ]
  },
  {
   "cell_type": "markdown",
   "id": "49929c4e",
   "metadata": {},
   "source": [
    "Q9). Write a program that accepts a sequence of whitespace separated words as input and prints the words after removing all duplicate words and sorting them alphanumerically. Suppose the input is supplied to the program: hello world and practice makes perfect and hello world again Then, the output should be: again and hello makes perfect practice world Hints: In case of input data being supplied to the question, it should be assumed to be a console input. We use set container to remove duplicated data automatically and then use sorted() to sort the data."
   ]
  },
  {
   "cell_type": "code",
   "execution_count": 2,
   "id": "f58c1b61",
   "metadata": {},
   "outputs": [
    {
     "name": "stdout",
     "output_type": "stream",
     "text": [
      "again and hello makes perfect practice world "
     ]
    }
   ],
   "source": [
    "# method-1.\n",
    "\n",
    "l=[]\n",
    "a='hello world and practice makes perfect and hello world again '\n",
    "s=a.split()\n",
    "s.sort()\n",
    "for i in s:\n",
    "    if i not in l:\n",
    "        l.append(i)\n",
    "for j in l:\n",
    "    print(j,end=\" \")"
   ]
  },
  {
   "cell_type": "code",
   "execution_count": 3,
   "id": "d9d8ad55",
   "metadata": {},
   "outputs": [
    {
     "name": "stdout",
     "output_type": "stream",
     "text": [
      " again and hello makes perfect practice world\n"
     ]
    }
   ],
   "source": [
    "# method-2.\n",
    "\n",
    "a='hello world and practice makes perfect and hello world again '\n",
    "b= [word for word in a.split(\" \")]\n",
    "print (\" \".join(sorted(list(set(b)))))"
   ]
  },
  {
   "cell_type": "markdown",
   "id": "c7ffd1f5",
   "metadata": {},
   "source": [
    "Q10). Write a program which accepts a sequence of comma separated 4 digit binary numbers as its input and then check whether they are divisible by 5 or not. The numbers that are divisible by 5 are to be printed in a comma separated sequence. Suppose the input is supplied to the program: 0100,0011,1010,1001 Then the output should be: 1010 Notes: Assume the data is input by console. Hints: In case of input data being supplied to the question, it should be assumed to be a console input."
   ]
  },
  {
   "cell_type": "code",
   "execution_count": 4,
   "id": "0d4117fa",
   "metadata": {},
   "outputs": [
    {
     "name": "stdout",
     "output_type": "stream",
     "text": [
      "enter binary digit 0100,0011,1010,1001\n",
      "1010\n"
     ]
    }
   ],
   "source": [
    "a=input('enter binary digit ')\n",
    "b=[i for i in a.split(',')]\n",
    "c=[]\n",
    "for x in b:\n",
    "    i=int(x,2)\n",
    "    if not i%5:\n",
    "        c.append(x)\n",
    "        \n",
    "print(','.join(c))\n"
   ]
  },
  {
   "cell_type": "markdown",
   "id": "ed24656a",
   "metadata": {},
   "source": [
    "Q11). Write a program, which will find all such numbers between 1000 and 3000 (both included) such that each digit of the number is an even number. The numbers obtained should be printed in a comma-separated sequence on a single line. Hints: In case of input data being supplied to the question, it should be assumed to be a console input."
   ]
  },
  {
   "cell_type": "code",
   "execution_count": 5,
   "id": "5c359c95",
   "metadata": {},
   "outputs": [
    {
     "name": "stdout",
     "output_type": "stream",
     "text": [
      "2000,2002,2004,2006,2008,2020,2022,2024,2026,2028,2040,2042,2044,2046,2048,2060,2062,2064,2066,2068,2080,2082,2084,2086,2088,2200,2202,2204,2206,2208,2220,2222,2224,2226,2228,2240,2242,2244,2246,2248,2260,2262,2264,2266,2268,2280,2282,2284,2286,2288,2400,2402,2404,2406,2408,2420,2422,2424,2426,2428,2440,2442,2444,2446,2448,2460,2462,2464,2466,2468,2480,2482,2484,2486,2488,2600,2602,2604,2606,2608,2620,2622,2624,2626,2628,2640,2642,2644,2646,2648,2660,2662,2664,2666,2668,2680,2682,2684,2686,2688,2800,2802,2804,2806,2808,2820,2822,2824,2826,2828,2840,2842,2844,2846,2848,2860,2862,2864,2866,2868,2880,2882,2884,2886,2888,"
     ]
    }
   ],
   "source": [
    "for i in range(1000,3001):\n",
    "    a=str(i)\n",
    "    if (int(a[0])%2==0) and (int(a[1])%2==0) and (int(a[2])%2==0) and (int(a[3])%2==0):\n",
    "        print(i,end=',')"
   ]
  },
  {
   "cell_type": "markdown",
   "id": "c5ce4e96",
   "metadata": {},
   "source": [
    "Q12). Write a program that accepts a sentence and calculate the number of letters and digits. Suppose the input is supplied to the program: hello world! 123 Then, the output should be: LETTERS 10\n",
    "DIGITS 3 Hints: In case of input data being supplied to the question, it should be assumed to be a console input."
   ]
  },
  {
   "cell_type": "code",
   "execution_count": 6,
   "id": "93dfd8a1",
   "metadata": {},
   "outputs": [
    {
     "name": "stdout",
     "output_type": "stream",
     "text": [
      "Enter the string : hello world! 123\n",
      "the number of letters :  10\n",
      "the number of digits :  3\n"
     ]
    }
   ],
   "source": [
    "a=input(\"Enter the string : \")\n",
    "d=l=0\n",
    "\n",
    "for i in a:\n",
    "    if i.isdigit():\n",
    "        d+=1\n",
    "    elif i.isalpha():\n",
    "        l+=1\n",
    "        \n",
    "    else:\n",
    "        pass\n",
    "    \n",
    "print(\"the number of letters : \", l)\n",
    "print(\"the number of digits : \", d)"
   ]
  }
 ],
 "metadata": {
  "kernelspec": {
   "display_name": "Python 3 (ipykernel)",
   "language": "python",
   "name": "python3"
  },
  "language_info": {
   "codemirror_mode": {
    "name": "ipython",
    "version": 3
   },
   "file_extension": ".py",
   "mimetype": "text/x-python",
   "name": "python",
   "nbconvert_exporter": "python",
   "pygments_lexer": "ipython3",
   "version": "3.10.2"
  }
 },
 "nbformat": 4,
 "nbformat_minor": 5
}
