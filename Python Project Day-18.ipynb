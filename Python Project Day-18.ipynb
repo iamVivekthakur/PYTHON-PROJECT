{
 "cells": [
  {
   "cell_type": "markdown",
   "id": "46fc9816",
   "metadata": {},
   "source": [
    "# Python Project Day-18"
   ]
  },
  {
   "cell_type": "markdown",
   "id": "d5e6f148",
   "metadata": {},
   "source": [
    "Q60). Please write a program to generate all sentences where subject is in [\"I\", \"You\"] and verb is in [\"Play\", \"Love\"] and the object is in [\"Hockey\",\"Football\"]. Hints: Use list[index] notation to get a element from a list."
   ]
  },
  {
   "cell_type": "code",
   "execution_count": 2,
   "id": "b35c63e0",
   "metadata": {},
   "outputs": [],
   "source": [
    "s=[\"I\", \"You\"]\n",
    "v= [\"Play\", \"Love\"]\n",
    "o=[\"Hockey\",\"Football\"]\n"
   ]
  },
  {
   "cell_type": "code",
   "execution_count": 3,
   "id": "c6a669d6",
   "metadata": {},
   "outputs": [
    {
     "data": {
      "text/plain": [
       "('I Play Hockey ',\n",
       " 'I Play Football',\n",
       " 'I Love Hockey',\n",
       " 'I Love Football',\n",
       " 'You Play Hockey',\n",
       " 'You Love Football',\n",
       " 'You Love Hockey',\n",
       " 'You Love Football')"
      ]
     },
     "execution_count": 3,
     "metadata": {},
     "output_type": "execute_result"
    }
   ],
   "source": [
    "s[0] +\" \" + v[0] + \" \" + o[0] + \" \" , s[0] + \" \" + v[0] + \" \" + o[1] , s[0] + \" \" + v[1] + \" \" + o[0] , s[0] + \" \" + v[1] + \" \" + o[1] , s[1] + \" \" + v[0] + \" \" + o[0] , s[1] + \" \" + v[1] + \" \" + o[1] , s[1] + \" \" + v[1] + \" \" + o[0] , s[1] + \" \" + v[1] + \" \" + o[1]"
   ]
  },
  {
   "cell_type": "code",
   "execution_count": 4,
   "id": "09d47644",
   "metadata": {},
   "outputs": [
    {
     "name": "stdout",
     "output_type": "stream",
     "text": [
      "['I Play Hockey', 'I Play Football', 'I Love Hockey', 'I Love Football', 'You Play Hockey', 'You Play Football', 'You Love Hockey', 'You Love Football']\n"
     ]
    }
   ],
   "source": [
    "s=[\"I\", \"You\"]\n",
    "v= [\"Play\", \"Love\"]\n",
    "o=[\"Hockey\",\"Football\"]\n",
    "ls=[]\n",
    "for x in s:\n",
    "    for y in v:\n",
    "        for z in o:\n",
    "            ls=ls+[x+\" \"+y+\" \"+z]\n",
    "print(ls)"
   ]
  },
  {
   "cell_type": "markdown",
   "id": "2908bc5a",
   "metadata": {},
   "source": [
    "Q61). Please write a program to print the list after removing delete even numbers in [5,6,77,45,22,12,24]. Hints: Use list comprehension to delete a bunch of element from a list."
   ]
  },
  {
   "cell_type": "code",
   "execution_count": 5,
   "id": "fa650bdd",
   "metadata": {},
   "outputs": [
    {
     "name": "stdout",
     "output_type": "stream",
     "text": [
      "[5, 77, 45]\n"
     ]
    }
   ],
   "source": [
    "ls=[5,6,77,45,22,12,24]\n",
    "ls=[v for v in ls if v%2!=0]\n",
    "print(ls)"
   ]
  },
  {
   "cell_type": "markdown",
   "id": "32a94981",
   "metadata": {},
   "source": [
    "Q62). By using list comprehension, please write a program to print the list after removing delete numbers which are divisible by 5 and 7 in [12,24,35,70,88,120,155]."
   ]
  },
  {
   "cell_type": "code",
   "execution_count": 6,
   "id": "cbacb0a3",
   "metadata": {},
   "outputs": [
    {
     "name": "stdout",
     "output_type": "stream",
     "text": [
      "[12, 24, 88]\n"
     ]
    }
   ],
   "source": [
    "ls=[12,24,35,70,88,120,155]\n",
    "ls=[i for i in ls if i%5!=0 and i%7!=0]\n",
    "print(ls)"
   ]
  }
 ],
 "metadata": {
  "kernelspec": {
   "display_name": "Python 3 (ipykernel)",
   "language": "python",
   "name": "python3"
  },
  "language_info": {
   "codemirror_mode": {
    "name": "ipython",
    "version": 3
   },
   "file_extension": ".py",
   "mimetype": "text/x-python",
   "name": "python",
   "nbconvert_exporter": "python",
   "pygments_lexer": "ipython3",
   "version": "3.10.2"
  }
 },
 "nbformat": 4,
 "nbformat_minor": 5
}
