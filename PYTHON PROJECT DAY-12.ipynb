{
 "cells": [
  {
   "cell_type": "markdown",
   "id": "c6d734b2",
   "metadata": {},
   "source": [
    "# PYTHON PROJECT DAY-12"
   ]
  },
  {
   "cell_type": "markdown",
   "id": "021de13b",
   "metadata": {},
   "source": [
    "Q45). Define a class named Shape and its subclass Square. The Square class has an init function which takes a length as argument. Both classes have a area function which can print the area of the shape where Shape's area is 0 by default."
   ]
  },
  {
   "cell_type": "code",
   "execution_count": 1,
   "id": "13bb8e9c",
   "metadata": {},
   "outputs": [
    {
     "name": "stdout",
     "output_type": "stream",
     "text": [
      "100\n"
     ]
    }
   ],
   "source": [
    "class Shape(object):\n",
    "    def __init__(self):\n",
    "        pass\n",
    "\n",
    "    def area(self):\n",
    "        return 0\n",
    "\n",
    "class Square(Shape):\n",
    "    def __init__(self, l):\n",
    "        Shape.__init__(self)\n",
    "        self.length = l\n",
    "\n",
    "    def area(self):\n",
    "        return self.length*self.length\n",
    "\n",
    "a=Square(10)\n",
    "print(a.area())"
   ]
  },
  {
   "cell_type": "markdown",
   "id": "3afac2f2",
   "metadata": {},
   "source": [
    "Q46). Write a function to compute 5/0 and use try/except to catch the exceptions. Hints: Use try/except to catch exceptions."
   ]
  },
  {
   "cell_type": "code",
   "execution_count": 2,
   "id": "11dd3761",
   "metadata": {},
   "outputs": [
    {
     "name": "stdout",
     "output_type": "stream",
     "text": [
      "It can not be divisible\n",
      "done!\n"
     ]
    }
   ],
   "source": [
    "try:\n",
    "    a==5//0\n",
    "    print(a)\n",
    "        \n",
    "except:\n",
    "    print(\"It can not be divisible\")\n",
    "    \n",
    "finally:\n",
    "    print(\"done!\")"
   ]
  },
  {
   "cell_type": "markdown",
   "id": "a8a80bbd",
   "metadata": {},
   "source": [
    "Q47). Assuming that we have some email addresses in the \"username@companyname.com\" format, please write program to print the user name of a given email address. Both user names and company names are composed of letters only. If the following email address is given as input to the program: Chandra@gdhdhtc.com Then, the output of the program should be: Chandra"
   ]
  },
  {
   "cell_type": "code",
   "execution_count": 3,
   "id": "b31d040e",
   "metadata": {},
   "outputs": [
    {
     "data": {
      "text/plain": [
       "'Chandra'"
      ]
     },
     "execution_count": 3,
     "metadata": {},
     "output_type": "execute_result"
    }
   ],
   "source": [
    "def name(s):\n",
    "    try:\n",
    "        return s.split(\"@\")[0]\n",
    "    except:\n",
    "        print(\"no email-adress exits\")\n",
    "\n",
    "name(\"Chandra@gdhdhtc.com\")"
   ]
  },
  {
   "cell_type": "code",
   "execution_count": null,
   "id": "53331add",
   "metadata": {},
   "outputs": [],
   "source": []
  },
  {
   "cell_type": "code",
   "execution_count": null,
   "id": "acca62db",
   "metadata": {},
   "outputs": [],
   "source": []
  },
  {
   "cell_type": "code",
   "execution_count": null,
   "id": "3405d73c",
   "metadata": {},
   "outputs": [],
   "source": []
  },
  {
   "cell_type": "code",
   "execution_count": null,
   "id": "762beaf5",
   "metadata": {},
   "outputs": [],
   "source": []
  },
  {
   "cell_type": "code",
   "execution_count": null,
   "id": "45253cfb",
   "metadata": {},
   "outputs": [],
   "source": []
  },
  {
   "cell_type": "code",
   "execution_count": null,
   "id": "28627333",
   "metadata": {},
   "outputs": [],
   "source": []
  },
  {
   "cell_type": "code",
   "execution_count": null,
   "id": "e3aff332",
   "metadata": {},
   "outputs": [],
   "source": []
  },
  {
   "cell_type": "code",
   "execution_count": null,
   "id": "d44dfa61",
   "metadata": {},
   "outputs": [],
   "source": []
  }
 ],
 "metadata": {
  "kernelspec": {
   "display_name": "Python 3 (ipykernel)",
   "language": "python",
   "name": "python3"
  },
  "language_info": {
   "codemirror_mode": {
    "name": "ipython",
    "version": 3
   },
   "file_extension": ".py",
   "mimetype": "text/x-python",
   "name": "python",
   "nbconvert_exporter": "python",
   "pygments_lexer": "ipython3",
   "version": "3.10.2"
  }
 },
 "nbformat": 4,
 "nbformat_minor": 5
}
